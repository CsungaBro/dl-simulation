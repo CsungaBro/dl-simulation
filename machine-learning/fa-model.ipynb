{
 "cells": [
  {
   "cell_type": "code",
   "execution_count": null,
   "metadata": {},
   "outputs": [],
   "source": [
    "import fastai"
   ]
  },
  {
   "cell_type": "code",
   "execution_count": null,
   "metadata": {},
   "outputs": [],
   "source": [
    "x_data_path = 'C:\\\\Users\\\\CsungaBro\\\\Documents\\\\code\\\\dl-simulation\\\\machine-learning\\\\clean\\\\x-data'\n",
    "y_data_path = 'C:\\\\Users\\\\CsungaBro\\\\Documents\\\\code\\\\dl-simulation\\\\machine-learning\\\\clean\\\\y-data'"
   ]
  },
  {
   "cell_type": "code",
   "execution_count": null,
   "metadata": {},
   "outputs": [],
   "source": []
  }
 ],
 "metadata": {
  "language_info": {
   "name": "python"
  },
  "orig_nbformat": 4
 },
 "nbformat": 4,
 "nbformat_minor": 2
}
