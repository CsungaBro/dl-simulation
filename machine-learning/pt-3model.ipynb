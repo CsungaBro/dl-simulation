{
 "cells": [
  {
   "cell_type": "markdown",
   "metadata": {},
   "source": [
    "# Convulation Neural Network - Pytorch"
   ]
  },
  {
   "cell_type": "markdown",
   "metadata": {},
   "source": [
    "## Possible Improvements"
   ]
  },
  {
   "cell_type": "markdown",
   "metadata": {},
   "source": [
    "- higher image resolution\n",
    "- larger kernel sizes\n",
    "- more conovultional layers\n",
    "- data augmentation"
   ]
  },
  {
   "cell_type": "markdown",
   "metadata": {},
   "source": [
    "## Imports"
   ]
  },
  {
   "cell_type": "code",
   "execution_count": 35,
   "metadata": {},
   "outputs": [],
   "source": [
    "import torch\n",
    "from torch.utils.data import Dataset\n",
    "from torchvision import datasets, transforms\n",
    "from torchvision.transforms import ToTensor\n",
    "import matplotlib.pyplot as plt\n",
    "import PIL\n",
    "import torch\n",
    "from torch import nn\n",
    "import numpy as np\n",
    "import os \n",
    "import random"
   ]
  },
  {
   "cell_type": "markdown",
   "metadata": {},
   "source": [
    "## Data Parameters"
   ]
  },
  {
   "cell_type": "code",
   "execution_count": 36,
   "metadata": {},
   "outputs": [],
   "source": [
    "DATA_PATH = 'clean'\n",
    "DATA_PATH_X = 'clean/x-data'\n",
    "DATA_PATH_Y = 'clean/y-data'\n",
    "CODES_PATH = \"clean/codes.txt\"\n",
    "BATCH_SIZE = 32\n",
    "IMG_SIZE = (128)\n",
    "VALID_PER = 0.8\n",
    "SEED = 42"
   ]
  },
  {
   "cell_type": "markdown",
   "metadata": {},
   "source": [
    "## Custom Dateset and Dataloader"
   ]
  },
  {
   "cell_type": "code",
   "execution_count": 37,
   "metadata": {},
   "outputs": [],
   "source": [
    "import os\n",
    "from torchvision.io import read_image\n",
    "\n",
    "class CustomImageDataset(Dataset):\n",
    "    def __init__(self, img_dir, label_dir, transform=None):\n",
    "        self.label_dir = label_dir\n",
    "        self.img_dir = img_dir\n",
    "        self.transform = transform\n",
    "\n",
    "    def __len__(self):\n",
    "        return len(os.listdir(self.img_dir))\n",
    "\n",
    "    def __getitem__(self, idx):\n",
    "        name = f\"{idx}.png\"\n",
    "        img_path = os.path.join(self.img_dir, os.listdir(self.img_dir)[idx])\n",
    "        label_path = os.path.join(self.label_dir, os.listdir(self.label_dir)[idx])\n",
    "        image = read_image(img_path)\n",
    "        label = read_image(label_path)\n",
    "        if self.transform:\n",
    "            image, label = self.transform(image, label)\n",
    "        return image, label"
   ]
  },
  {
   "cell_type": "code",
   "execution_count": 38,
   "metadata": {},
   "outputs": [],
   "source": [
    "class MyTransform:\n",
    "    def __init__(self, img_size, aug_mode=True):\n",
    "        self.img_size = (img_size, img_size)\n",
    "        self.aug_mode = aug_mode\n",
    "\n",
    "    def __call__(self, img, lbl):\n",
    "        rotage_angle = int(random.random()*180)\n",
    "        v_flip_bool = True if random.random() > 0.5 else False\n",
    "        h_flip_bool = True if random.random() > 0.5 else False\n",
    "        flip_bool = (v_flip_bool, h_flip_bool)\n",
    "        img = self.transform(img, rotage_angle, flip_bool)\n",
    "        lbl = self.transform(lbl, rotage_angle, flip_bool)\n",
    "        return img, lbl\n",
    "\n",
    "    def transform(self, x, rotage_angle, flip_bool):\n",
    "        resized_img = transforms.Resize(size=self.img_size)(x)\n",
    "        pil_img =transforms.ToPILImage()(resized_img)\n",
    "        gray_img = transforms.functional.to_grayscale(pil_img, num_output_channels=1)\n",
    "        if self.aug_mode:\n",
    "            return self.augmentation(gray_img, rotage_angle, flip_bool)\n",
    "        else:\n",
    "            return transforms.ToTensor()(gray_img)\n",
    "\n",
    "\n",
    "    def augmentation(self, img, rotage_angle, flip_bool):\n",
    "        v_flip_bool, h_flip_bool = flip_bool\n",
    "        aug_img = transforms.functional.rotate(img, rotage_angle)\n",
    "        if v_flip_bool:\n",
    "            aug_img = transforms.functional.vflip(aug_img)\n",
    "        if h_flip_bool:\n",
    "            aug_img = transforms.functional.vflip(aug_img)            \n",
    "        return transforms.ToTensor()(aug_img)\n"
   ]
  },
  {
   "cell_type": "code",
   "execution_count": 39,
   "metadata": {},
   "outputs": [],
   "source": [
    "def split_calculator(data, valid_per):\n",
    "    number_of_file = len(os.listdir(data))\n",
    "    split_length = [valid_per*number_of_file, (1-valid_per)*number_of_file]\n",
    "    return [round(split_length[0]), round(split_length[1])]"
   ]
  },
  {
   "cell_type": "code",
   "execution_count": 40,
   "metadata": {},
   "outputs": [],
   "source": [
    "dset = CustomImageDataset(DATA_PATH_X, DATA_PATH_Y, transform=MyTransform(IMG_SIZE))"
   ]
  },
  {
   "cell_type": "code",
   "execution_count": 41,
   "metadata": {},
   "outputs": [],
   "source": [
    "split_length = split_calculator(DATA_PATH_X, VALID_PER)\n",
    "training_dset, validation_dset = torch.utils.data.random_split(dset, split_length, generator=torch.Generator().manual_seed(SEED))"
   ]
  },
  {
   "cell_type": "code",
   "execution_count": 42,
   "metadata": {},
   "outputs": [],
   "source": [
    "training_dls = torch.utils.data.DataLoader(training_dset, batch_size=BATCH_SIZE, shuffle=True)\n",
    "validation_dls = torch.utils.data.DataLoader(validation_dset, batch_size=BATCH_SIZE)"
   ]
  },
  {
   "cell_type": "code",
   "execution_count": 43,
   "metadata": {},
   "outputs": [],
   "source": [
    "def status_logger(dls):\n",
    "    for X, y in dls:\n",
    "        print(f\"Shape of X [N, C, H, W]: {X.shape}\")\n",
    "        print(f\"Shape of y: {y.shape} {y.dtype}\")\n",
    "        break"
   ]
  },
  {
   "cell_type": "code",
   "execution_count": 44,
   "metadata": {},
   "outputs": [
    {
     "name": "stdout",
     "output_type": "stream",
     "text": [
      "Shape of X [N, C, H, W]: torch.Size([32, 1, 128, 128])\n",
      "Shape of y: torch.Size([32, 1, 128, 128]) torch.float32\n",
      "Shape of X [N, C, H, W]: torch.Size([32, 1, 128, 128])\n",
      "Shape of y: torch.Size([32, 1, 128, 128]) torch.float32\n"
     ]
    }
   ],
   "source": [
    "status_logger(training_dls)\n",
    "status_logger(validation_dls)"
   ]
  },
  {
   "cell_type": "markdown",
   "metadata": {},
   "source": [
    "## Model"
   ]
  },
  {
   "cell_type": "markdown",
   "metadata": {},
   "source": [
    "### Model parameters"
   ]
  },
  {
   "cell_type": "code",
   "execution_count": 19,
   "metadata": {},
   "outputs": [],
   "source": [
    "epochs = 10"
   ]
  },
  {
   "cell_type": "markdown",
   "metadata": {},
   "source": [
    "### Model Structure"
   ]
  },
  {
   "cell_type": "code",
   "execution_count": 20,
   "metadata": {},
   "outputs": [],
   "source": [
    "class LSNet(torch.nn.Module):\n",
    "    def __init__(self):\n",
    "        # call the parent constructor\n",
    "        super(LSNet, self).__init__()\n",
    "        self.conv_part = torch.nn.Sequential(\n",
    "            torch.nn.Conv2d(1, 16, kernel_size=7, stride=4, padding=2),\n",
    "            torch.nn.ReLU(inplace=True),\n",
    "            torch.nn.MaxPool2d(kernel_size=3, stride=2),\n",
    "            torch.nn.Conv2d(16, 32, kernel_size=5, padding=2),\n",
    "            torch.nn.ReLU(inplace=True),\n",
    "            torch.nn.MaxPool2d(kernel_size=3, stride=2),\n",
    "            torch.nn.Conv2d(32, 64, kernel_size=3, padding=1),\n",
    "            torch.nn.ReLU(inplace=True),\n",
    "            torch.nn.MaxPool2d(kernel_size=3, stride=2)\n",
    "        )\n",
    "        self.deconv_part = torch.nn.Sequential(\n",
    "            torch.nn.ConvTranspose2d(64, 32, kernel_size=7, stride=4, padding=2),\n",
    "            torch.nn.ReLU(inplace=True),\n",
    "            torch.nn.Upsample(scale_factor=2, mode='bilinear'),\n",
    "            torch.nn.ConvTranspose2d(32, 16, kernel_size=5, padding=2),\n",
    "            torch.nn.ReLU(inplace=True),\n",
    "            torch.nn.Upsample(scale_factor=2, mode='bilinear'),\n",
    "            torch.nn.ConvTranspose2d(16, 1, kernel_size=3, padding=1),\n",
    "            torch.nn.ReLU(inplace=True),\n",
    "            torch.nn.Upsample(size=IMG_SIZE, mode='bilinear'),\n",
    "        )\n",
    "    def forward(self, x):\n",
    "        x = self.conv_part(x)\n",
    "        x = self.deconv_part(x)\n",
    "        return x"
   ]
  },
  {
   "cell_type": "code",
   "execution_count": 21,
   "metadata": {},
   "outputs": [],
   "source": [
    "model = LSNet()"
   ]
  },
  {
   "cell_type": "code",
   "execution_count": 22,
   "metadata": {},
   "outputs": [],
   "source": [
    "loss_fn = nn.MSELoss()\n",
    "optimizer = torch.optim.Adam(model.parameters(), lr=1e-3)"
   ]
  },
  {
   "cell_type": "code",
   "execution_count": 23,
   "metadata": {},
   "outputs": [
    {
     "name": "stdout",
     "output_type": "stream",
     "text": [
      "torch.Size([20, 1, 128, 128])\n"
     ]
    },
    {
     "data": {
      "text/plain": [
       "torch.Size([20, 1, 128, 128])"
      ]
     },
     "execution_count": 23,
     "metadata": {},
     "output_type": "execute_result"
    }
   ],
   "source": [
    "input_test = torch.rand(20, 1, IMG_SIZE, IMG_SIZE)\n",
    "print(input_test.shape)\n",
    "model(input_test).shape"
   ]
  },
  {
   "cell_type": "code",
   "execution_count": 24,
   "metadata": {},
   "outputs": [],
   "source": [
    "# print(f\"Model structure: {model}\\n\\n\")\n",
    "\n",
    "# for name, param in model.named_parameters():\n",
    "#     print(f\"Layer: {name} | Size: {param.size()} | Values : {param[:2]} \\n\")"
   ]
  },
  {
   "cell_type": "markdown",
   "metadata": {},
   "source": [
    "### Training and Testing functions"
   ]
  },
  {
   "cell_type": "code",
   "execution_count": 25,
   "metadata": {},
   "outputs": [],
   "source": [
    "def train(dataloader, model, loss_fn, optimizer):\n",
    "    r_loss = 0\n",
    "    size = len(dataloader.dataset)\n",
    "    model.train()\n",
    "    for batch, (X, y) in enumerate(dataloader):\n",
    "        # X, y = X.to(device), y.to(device)\n",
    "\n",
    "        # Compute prediction error\n",
    "        pred = model(X)\n",
    "        loss = loss_fn(pred, y)\n",
    "\n",
    "        # Backpropagation\n",
    "        optimizer.zero_grad()\n",
    "        loss.backward()\n",
    "        optimizer.step()\n",
    "\n",
    "        if batch % 8 == 0:\n",
    "            loss, current = loss.item(), batch * len(X)\n",
    "            print(f\"loss: {loss:>7f}  [{current:>5d}/{size:>5d}]\")\n",
    "        \n",
    "        r_loss = loss\n",
    "    return r_loss"
   ]
  },
  {
   "cell_type": "code",
   "execution_count": 26,
   "metadata": {},
   "outputs": [],
   "source": [
    "def test(dataloader, model, loss_fn):\n",
    "    losses = []\n",
    "    size = len(dataloader.dataset)\n",
    "    num_batches = len(dataloader)\n",
    "    model.eval()\n",
    "    test_loss, correct = 0, 0\n",
    "    with torch.no_grad():\n",
    "        for X, y in dataloader:\n",
    "            # X, y = X.to(device), y.to(device)\n",
    "            pred = model(X)\n",
    "            test_loss += loss_fn(pred, y).item()\n",
    "            correct += (pred.argmax(1) == y).type(torch.float).sum().item()\n",
    "    test_loss /= num_batches\n",
    "    correct /= size\n",
    "    print(f\"Test Error: \\n Avg loss: {test_loss:>8f} \\n\")\n",
    "    return test_loss\n",
    "    "
   ]
  },
  {
   "cell_type": "markdown",
   "metadata": {},
   "source": [
    "### Training"
   ]
  },
  {
   "cell_type": "code",
   "execution_count": 27,
   "metadata": {},
   "outputs": [
    {
     "name": "stdout",
     "output_type": "stream",
     "text": [
      "Epoch 1\n",
      "-------------------------------\n",
      "loss: 0.369841  [    0/  686]\n",
      "loss: 0.350951  [  256/  686]\n",
      "loss: 0.385866  [  512/  686]\n",
      "Test Error: \n",
      " Avg loss: 0.375903 \n",
      "\n",
      "Epoch 2\n",
      "-------------------------------\n",
      "loss: 0.376925  [    0/  686]\n",
      "loss: 0.359906  [  256/  686]\n",
      "loss: 0.383577  [  512/  686]\n",
      "Test Error: \n",
      " Avg loss: 0.371069 \n",
      "\n",
      "Epoch 3\n",
      "-------------------------------\n",
      "loss: 0.352033  [    0/  686]\n",
      "loss: 0.374991  [  256/  686]\n",
      "loss: 0.382415  [  512/  686]\n",
      "Test Error: \n",
      " Avg loss: 0.375579 \n",
      "\n",
      "Epoch 4\n",
      "-------------------------------\n",
      "loss: 0.379681  [    0/  686]\n",
      "loss: 0.399085  [  256/  686]\n",
      "loss: 0.360436  [  512/  686]\n",
      "Test Error: \n",
      " Avg loss: 0.379658 \n",
      "\n",
      "Epoch 5\n",
      "-------------------------------\n",
      "loss: 0.315072  [    0/  686]\n",
      "loss: 0.371395  [  256/  686]\n",
      "loss: 0.348016  [  512/  686]\n",
      "Test Error: \n",
      " Avg loss: 0.374097 \n",
      "\n",
      "Epoch 6\n",
      "-------------------------------\n",
      "loss: 0.382069  [    0/  686]\n",
      "loss: 0.383541  [  256/  686]\n",
      "loss: 0.355060  [  512/  686]\n",
      "Test Error: \n",
      " Avg loss: 0.381810 \n",
      "\n",
      "Epoch 7\n",
      "-------------------------------\n",
      "loss: 0.362776  [    0/  686]\n",
      "loss: 0.372980  [  256/  686]\n",
      "loss: 0.385923  [  512/  686]\n",
      "Test Error: \n",
      " Avg loss: 0.374743 \n",
      "\n",
      "Epoch 8\n",
      "-------------------------------\n",
      "loss: 0.374422  [    0/  686]\n",
      "loss: 0.340468  [  256/  686]\n",
      "loss: 0.381287  [  512/  686]\n",
      "Test Error: \n",
      " Avg loss: 0.375975 \n",
      "\n",
      "Epoch 9\n",
      "-------------------------------\n",
      "loss: 0.392117  [    0/  686]\n",
      "loss: 0.374764  [  256/  686]\n",
      "loss: 0.366342  [  512/  686]\n",
      "Test Error: \n",
      " Avg loss: 0.372130 \n",
      "\n",
      "Epoch 10\n",
      "-------------------------------\n",
      "loss: 0.372536  [    0/  686]\n",
      "loss: 0.408764  [  256/  686]\n",
      "loss: 0.383306  [  512/  686]\n",
      "Test Error: \n",
      " Avg loss: 0.372892 \n",
      "\n",
      "Done!\n"
     ]
    }
   ],
   "source": [
    "train_losses, test_losses = [], []\n",
    "for t in range(epochs):\n",
    "    print(f\"Epoch {t+1}\\n-------------------------------\")\n",
    "    tr_loss = train(training_dls, model, loss_fn, optimizer)\n",
    "    te_loss = test(validation_dls, model, loss_fn)\n",
    "    train_losses.append(tr_loss)\n",
    "    test_losses.append(te_loss)\n",
    "print(\"Done!\")"
   ]
  },
  {
   "cell_type": "code",
   "execution_count": 28,
   "metadata": {},
   "outputs": [
    {
     "data": {
      "text/plain": [
       "[0.37236660718917847,\n",
       " 0.4045601189136505,\n",
       " 0.388321191072464,\n",
       " 0.3782626688480377,\n",
       " 0.36571595072746277,\n",
       " 0.3800172507762909,\n",
       " 0.3561886250972748,\n",
       " 0.39821547269821167,\n",
       " 0.3705787658691406,\n",
       " 0.389070063829422]"
      ]
     },
     "execution_count": 28,
     "metadata": {},
     "output_type": "execute_result"
    }
   ],
   "source": [
    "n_train_losses = []\n",
    "for loss in train_losses:\n",
    "    n_train_losses.append(loss.item())\n",
    "n_train_losses"
   ]
  },
  {
   "cell_type": "code",
   "execution_count": 29,
   "metadata": {},
   "outputs": [
    {
     "data": {
      "image/png": "[encoded data removed]",
      "text/plain": [
       "<Figure size 720x360 with 1 Axes>"
      ]
     },
     "metadata": {
      "needs_background": "light"
     },
     "output_type": "display_data"
    }
   ],
   "source": [
    "plt.figure(figsize=(10,5))\n",
    "plt.title(\"Training and Validation Loss\")\n",
    "plt.plot(n_train_losses,label=\"train\")\n",
    "plt.plot(test_losses,label=\"val\")\n",
    "plt.xlabel(\"epochs\")\n",
    "plt.ylabel(\"Loss\")\n",
    "plt.legend()\n",
    "plt.show()"
   ]
  },
  {
   "cell_type": "markdown",
   "metadata": {},
   "source": [
    "### Model postprocessing and evaluation"
   ]
  },
  {
   "cell_type": "code",
   "execution_count": 13,
   "metadata": {},
   "outputs": [],
   "source": [
    "eval_dset  = CustomImageDataset(DATA_PATH_X, DATA_PATH_Y, transform=MyTransform(IMG_SIZE, aug_mode=False))\n",
    "x, y = eval_dset[20][0], eval_dset[20][1]"
   ]
  },
  {
   "cell_type": "code",
   "execution_count": 31,
   "metadata": {},
   "outputs": [
    {
     "name": "stdout",
     "output_type": "stream",
     "text": [
      "Saved PyTorch Model State to model.pth\n"
     ]
    }
   ],
   "source": [
    "torch.save(model.state_dict(), \"models/main/model_2022_08_02_14_23.pth\")\n",
    "print(\"Saved PyTorch Model State to model.pth\")"
   ]
  },
  {
   "cell_type": "code",
   "execution_count": 12,
   "metadata": {},
   "outputs": [
    {
     "ename": "NameError",
     "evalue": "name 'model' is not defined",
     "output_type": "error",
     "traceback": [
      "\u001b[1;31m---------------------------------------------------------------------------\u001b[0m",
      "\u001b[1;31mNameError\u001b[0m                                 Traceback (most recent call last)",
      "\u001b[1;32m~\\AppData\\Local\\Temp\\ipykernel_14452\\3057326778.py\u001b[0m in \u001b[0;36m<module>\u001b[1;34m\u001b[0m\n\u001b[1;32m----> 1\u001b[1;33m \u001b[0mmodel\u001b[0m\u001b[1;33m.\u001b[0m\u001b[0meval\u001b[0m\u001b[1;33m(\u001b[0m\u001b[1;33m)\u001b[0m\u001b[1;33m\u001b[0m\u001b[1;33m\u001b[0m\u001b[0m\n\u001b[0m\u001b[0;32m      2\u001b[0m \u001b[0mx\u001b[0m\u001b[1;33m,\u001b[0m \u001b[0my\u001b[0m \u001b[1;33m=\u001b[0m \u001b[0meval_dset\u001b[0m\u001b[1;33m[\u001b[0m\u001b[1;36m20\u001b[0m\u001b[1;33m]\u001b[0m\u001b[1;33m[\u001b[0m\u001b[1;36m0\u001b[0m\u001b[1;33m]\u001b[0m\u001b[1;33m,\u001b[0m \u001b[0meval_dset\u001b[0m\u001b[1;33m[\u001b[0m\u001b[1;36m20\u001b[0m\u001b[1;33m]\u001b[0m\u001b[1;33m[\u001b[0m\u001b[1;36m1\u001b[0m\u001b[1;33m]\u001b[0m\u001b[1;33m\u001b[0m\u001b[1;33m\u001b[0m\u001b[0m\n\u001b[0;32m      3\u001b[0m \u001b[0mprint\u001b[0m\u001b[1;33m(\u001b[0m\u001b[0mx\u001b[0m\u001b[1;33m.\u001b[0m\u001b[0mshape\u001b[0m\u001b[1;33m)\u001b[0m\u001b[1;33m\u001b[0m\u001b[1;33m\u001b[0m\u001b[0m\n\u001b[0;32m      4\u001b[0m \u001b[0mprint\u001b[0m\u001b[1;33m(\u001b[0m\u001b[0my\u001b[0m\u001b[1;33m.\u001b[0m\u001b[0mshape\u001b[0m\u001b[1;33m)\u001b[0m\u001b[1;33m\u001b[0m\u001b[1;33m\u001b[0m\u001b[0m\n\u001b[0;32m      5\u001b[0m \u001b[1;32mwith\u001b[0m \u001b[0mtorch\u001b[0m\u001b[1;33m.\u001b[0m\u001b[0mno_grad\u001b[0m\u001b[1;33m(\u001b[0m\u001b[1;33m)\u001b[0m\u001b[1;33m:\u001b[0m\u001b[1;33m\u001b[0m\u001b[1;33m\u001b[0m\u001b[0m\n",
      "\u001b[1;31mNameError\u001b[0m: name 'model' is not defined"
     ]
    }
   ],
   "source": [
    "model.eval()\n",
    "print(x.shape)\n",
    "print(y.shape)\n",
    "with torch.no_grad():\n",
    "    pred = model(x[None,:])\n"
   ]
  },
  {
   "cell_type": "code",
   "execution_count": 33,
   "metadata": {},
   "outputs": [
    {
     "data": {
      "text/plain": [
       "torch.Size([1, 128, 128])"
      ]
     },
     "execution_count": 33,
     "metadata": {},
     "output_type": "execute_result"
    }
   ],
   "source": [
    "new_pred = pred[0]\n",
    "new_pred.shape"
   ]
  },
  {
   "cell_type": "code",
   "execution_count": 34,
   "metadata": {},
   "outputs": [
    {
     "data": {
      "image/png": "[encoded data removed]",
      "text/plain": [
       "<PIL.Image.Image image mode=L size=128x128 at 0x28C33A8AC48>"
      ]
     },
     "execution_count": 34,
     "metadata": {},
     "output_type": "execute_result"
    }
   ],
   "source": [
    "transforms.ToPILImage()(new_pred)"
   ]
  },
  {
   "cell_type": "code",
   "execution_count": 35,
   "metadata": {},
   "outputs": [
    {
     "data": {
      "image/png": "[encoded data removed]",
      "text/plain": [
       "<PIL.Image.Image image mode=L size=128x128 at 0x28C33A96488>"
      ]
     },
     "execution_count": 35,
     "metadata": {},
     "output_type": "execute_result"
    }
   ],
   "source": [
    "transforms.ToPILImage()(y)"
   ]
  },
  {
   "cell_type": "code",
   "execution_count": 45,
   "metadata": {},
   "outputs": [],
   "source": [
    "eval_tfs = MyTransform((IMG_SIZE))\n",
    "\n",
    "y_cont = []\n",
    "x_cont = []\n",
    "for _ in range(9):\n",
    "    x_t, y_t = eval_tfs(x,y)\n",
    "    y_cont.append(y_t)\n",
    "    x_cont.append(x_t)"
   ]
  },
  {
   "cell_type": "code",
   "execution_count": 46,
   "metadata": {},
   "outputs": [
    {
     "data": {
      "image/png": "[encoded data removed]",
      "text/plain": [
       "<Figure size 864x360 with 10 Axes>"
      ]
     },
     "metadata": {
      "needs_background": "light"
     },
     "output_type": "display_data"
    }
   ],
   "source": [
    "fig = plt.figure(figsize=(12,5))\n",
    "grid = plt.GridSpec(3, 6,figure = fig, wspace=0.1, hspace=0.4)\n",
    "ax0 = fig.add_subplot(grid[0:3, 0:3])\n",
    "ax0.imshow(y[0], cmap='gray')\n",
    "ax0.axis('off')\n",
    "h = 0\n",
    "for i in range(3):\n",
    "    for j in range(3, 6):\n",
    "        axf = fig.add_subplot(grid[i, j])\n",
    "        axf.imshow(y_cont[h][0], cmap='gray')\n",
    "        axf.axis('off')\n",
    "        h += 1"
   ]
  },
  {
   "cell_type": "code",
   "execution_count": 47,
   "metadata": {},
   "outputs": [
    {
     "data": {
      "image/png": "[encoded data removed]",
      "text/plain": [
       "<Figure size 864x360 with 10 Axes>"
      ]
     },
     "metadata": {
      "needs_background": "light"
     },
     "output_type": "display_data"
    }
   ],
   "source": [
    "fig = plt.figure(figsize=(12,5))\n",
    "grid = plt.GridSpec(3, 6,figure = fig, wspace=0.1, hspace=0.4)\n",
    "ax0 = fig.add_subplot(grid[0:3, 0:3])\n",
    "ax0.imshow(x[0], cmap='gray')\n",
    "ax0.axis('off')\n",
    "h = 0\n",
    "for i in range(3):\n",
    "    for j in range(3, 6):\n",
    "        axf = fig.add_subplot(grid[i, j])\n",
    "        axf.imshow(x_cont[h][0], cmap='gray')\n",
    "        axf.axis('off')\n",
    "        h += 1"
   ]
  },
  {
   "cell_type": "code",
   "execution_count": null,
   "metadata": {},
   "outputs": [],
   "source": []
  }
 ],
 "metadata": {
  "kernelspec": {
   "display_name": "Python 3.7.13 ('fastai')",
   "language": "python",
   "name": "python3"
  },
  "language_info": {
   "codemirror_mode": {
    "name": "ipython",
    "version": 3
   },
   "file_extension": ".py",
   "mimetype": "text/x-python",
   "name": "python",
   "nbconvert_exporter": "python",
   "pygments_lexer": "ipython3",
   "version": "3.7.13"
  },
  "orig_nbformat": 4,
  "vscode": {
   "interpreter": {
    "hash": "ef2e8a0485ff57ee407a25f71772b040025efc0ca0a35f1571a51591b5255e3f"
   }
  }
 },
 "nbformat": 4,
 "nbformat_minor": 2
}
